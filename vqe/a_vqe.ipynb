{
  "nbformat": 4,
  "nbformat_minor": 0,
  "metadata": {
    "colab": {
      "provenance": []
    },
    "kernelspec": {
      "name": "python3",
      "display_name": "Python 3"
    },
    "language_info": {
      "name": "python"
    }
  },
  "cells": [
    {
      "cell_type": "markdown",
      "source": [
        "Install dependencies to run pennylane and qiskit"
      ],
      "metadata": {
        "id": "PZasJVYLMyWq"
      }
    },
    {
      "cell_type": "code",
      "source": [
        "!pip install cvxpy\n",
        "!pip install pennylane\n",
        "!pip install ecos"
      ],
      "metadata": {
        "colab": {
          "base_uri": "https://localhost:8080/"
        },
        "id": "GAyxuvEqNbs_",
        "outputId": "52ba1bae-060d-4bc7-9340-81a0b410eb60"
      },
      "execution_count": 1,
      "outputs": [
        {
          "output_type": "stream",
          "name": "stdout",
          "text": [
            "Requirement already satisfied: cvxpy in /usr/local/lib/python3.11/dist-packages (1.6.4)\n",
            "Requirement already satisfied: osqp>=0.6.2 in /usr/local/lib/python3.11/dist-packages (from cvxpy) (1.0.3)\n",
            "Requirement already satisfied: clarabel>=0.5.0 in /usr/local/lib/python3.11/dist-packages (from cvxpy) (0.10.0)\n",
            "Requirement already satisfied: scs>=3.2.4.post1 in /usr/local/lib/python3.11/dist-packages (from cvxpy) (3.2.7.post2)\n",
            "Requirement already satisfied: numpy>=1.21.6 in /usr/local/lib/python3.11/dist-packages (from cvxpy) (2.0.2)\n",
            "Requirement already satisfied: scipy>=1.11.0 in /usr/local/lib/python3.11/dist-packages (from cvxpy) (1.14.1)\n",
            "Requirement already satisfied: jinja2 in /usr/local/lib/python3.11/dist-packages (from osqp>=0.6.2->cvxpy) (3.1.6)\n",
            "Requirement already satisfied: setuptools in /usr/local/lib/python3.11/dist-packages (from osqp>=0.6.2->cvxpy) (75.2.0)\n",
            "Requirement already satisfied: joblib in /usr/local/lib/python3.11/dist-packages (from osqp>=0.6.2->cvxpy) (1.4.2)\n",
            "Requirement already satisfied: MarkupSafe>=2.0 in /usr/local/lib/python3.11/dist-packages (from jinja2->osqp>=0.6.2->cvxpy) (3.0.2)\n",
            "Requirement already satisfied: pennylane in /usr/local/lib/python3.11/dist-packages (0.40.0)\n",
            "Requirement already satisfied: numpy<2.1 in /usr/local/lib/python3.11/dist-packages (from pennylane) (2.0.2)\n",
            "Requirement already satisfied: scipy in /usr/local/lib/python3.11/dist-packages (from pennylane) (1.14.1)\n",
            "Requirement already satisfied: networkx in /usr/local/lib/python3.11/dist-packages (from pennylane) (3.4.2)\n",
            "Requirement already satisfied: rustworkx>=0.14.0 in /usr/local/lib/python3.11/dist-packages (from pennylane) (0.16.0)\n",
            "Requirement already satisfied: autograd in /usr/local/lib/python3.11/dist-packages (from pennylane) (1.7.0)\n",
            "Requirement already satisfied: tomlkit in /usr/local/lib/python3.11/dist-packages (from pennylane) (0.13.2)\n",
            "Requirement already satisfied: appdirs in /usr/local/lib/python3.11/dist-packages (from pennylane) (1.4.4)\n",
            "Requirement already satisfied: autoray>=0.6.11 in /usr/local/lib/python3.11/dist-packages (from pennylane) (0.7.1)\n",
            "Requirement already satisfied: cachetools in /usr/local/lib/python3.11/dist-packages (from pennylane) (5.5.2)\n",
            "Requirement already satisfied: pennylane-lightning>=0.40 in /usr/local/lib/python3.11/dist-packages (from pennylane) (0.40.0)\n",
            "Requirement already satisfied: requests in /usr/local/lib/python3.11/dist-packages (from pennylane) (2.32.3)\n",
            "Requirement already satisfied: typing-extensions in /usr/local/lib/python3.11/dist-packages (from pennylane) (4.13.1)\n",
            "Requirement already satisfied: packaging in /usr/local/lib/python3.11/dist-packages (from pennylane) (24.2)\n",
            "Requirement already satisfied: diastatic-malt in /usr/local/lib/python3.11/dist-packages (from pennylane) (2.15.2)\n",
            "Requirement already satisfied: scipy-openblas32>=0.3.26 in /usr/local/lib/python3.11/dist-packages (from pennylane-lightning>=0.40->pennylane) (0.3.29.0.0)\n",
            "Requirement already satisfied: astunparse in /usr/local/lib/python3.11/dist-packages (from diastatic-malt->pennylane) (1.6.3)\n",
            "Requirement already satisfied: gast in /usr/local/lib/python3.11/dist-packages (from diastatic-malt->pennylane) (0.6.0)\n",
            "Requirement already satisfied: termcolor in /usr/local/lib/python3.11/dist-packages (from diastatic-malt->pennylane) (3.0.1)\n",
            "Requirement already satisfied: charset-normalizer<4,>=2 in /usr/local/lib/python3.11/dist-packages (from requests->pennylane) (3.4.1)\n",
            "Requirement already satisfied: idna<4,>=2.5 in /usr/local/lib/python3.11/dist-packages (from requests->pennylane) (3.10)\n",
            "Requirement already satisfied: urllib3<3,>=1.21.1 in /usr/local/lib/python3.11/dist-packages (from requests->pennylane) (2.3.0)\n",
            "Requirement already satisfied: certifi>=2017.4.17 in /usr/local/lib/python3.11/dist-packages (from requests->pennylane) (2025.1.31)\n",
            "Requirement already satisfied: wheel<1.0,>=0.23.0 in /usr/local/lib/python3.11/dist-packages (from astunparse->diastatic-malt->pennylane) (0.45.1)\n",
            "Requirement already satisfied: six<2.0,>=1.6.1 in /usr/local/lib/python3.11/dist-packages (from astunparse->diastatic-malt->pennylane) (1.17.0)\n",
            "Requirement already satisfied: ecos in /usr/local/lib/python3.11/dist-packages (2.0.14)\n",
            "Requirement already satisfied: numpy>=1.6 in /usr/local/lib/python3.11/dist-packages (from ecos) (2.0.2)\n",
            "Requirement already satisfied: scipy>=0.9 in /usr/local/lib/python3.11/dist-packages (from ecos) (1.14.1)\n"
          ]
        }
      ]
    },
    {
      "cell_type": "code",
      "source": [
        "import numpy as np\n",
        "import pandas as pd\n",
        "\n",
        "mu = np.array([0.5, 0.7, 0.3, 0.6])  # expected returns\n",
        "n_assets = len(mu)\n",
        "\n",
        "# Sample correlation matrix (symmetric and positive semi-definite)\n",
        "sigma = np.array([\n",
        "    [1.0, 0.2, 0.3, 0.1],\n",
        "    [0.2, 1.0, 0.4, 0.2],\n",
        "    [0.3, 0.4, 1.0, 0.5],\n",
        "    [0.1, 0.2, 0.5, 1.0]\n",
        "])\n",
        "\n",
        "# Parameters\n",
        "q = 0.5      # weight for risk (correlation)\n",
        "lam = 4.0    # penalty term\n",
        "B = 2        # budget (number of properties to select)\n",
        "\n",
        "Q = {}\n",
        "for i in range(n_assets):\n",
        "    Q[(i, i)] = q * sigma[i][i] - mu[i] + lam * (1 - 2*B + 1)\n",
        "    for j in range(i+1, n_assets):\n",
        "        Q[(i, j)] = q * sigma[i][j] + lam\n",
        "\n",
        "qubo_matrix = np.zeros((n_assets, n_assets))\n",
        "for (i, j), val in Q.items():\n",
        "    qubo_matrix[i][j] = val\n",
        "    if i != j:\n",
        "        qubo_matrix[j][i] = val  # symmetry\n",
        "\n",
        "print(\"QUBO Matrix for Portfolio Optimization:\")\n",
        "print(pd.DataFrame(qubo_matrix, columns=[f\"x{j}\" for j in range(n_assets)], index=[f\"x{i}\" for i in range(n_assets)]))"
      ],
      "metadata": {
        "colab": {
          "base_uri": "https://localhost:8080/"
        },
        "id": "PJple-mhQmqT",
        "outputId": "5e87cd82-9d34-463a-8166-29f9248d8d28"
      },
      "execution_count": 2,
      "outputs": [
        {
          "output_type": "stream",
          "name": "stdout",
          "text": [
            "QUBO Matrix for Portfolio Optimization:\n",
            "      x0   x1    x2    x3\n",
            "x0 -8.00  4.1  4.15  4.05\n",
            "x1  4.10 -8.2  4.20  4.10\n",
            "x2  4.15  4.2 -7.80  4.25\n",
            "x3  4.05  4.1  4.25 -8.10\n"
          ]
        }
      ]
    },
    {
      "cell_type": "code",
      "source": [
        "import pennylane as qml\n",
        "from pennylane import numpy as np\n",
        "from pennylane.optimize import NesterovMomentumOptimizer\n",
        "\n",
        "# x_i = (1 - z_i) / 2 => rewrite QUBO in terms of Pauli Zs\n",
        "\n",
        "def qubo_to_ising(Q, n):\n",
        "    \"\"\"Convert QUBO dict to Ising coefficients for PennyLane.\"\"\"\n",
        "    h = np.zeros(n)\n",
        "    J = np.zeros((n, n))\n",
        "    constant = 0\n",
        "\n",
        "    for (i, j), q in Q.items():\n",
        "        if i == j:\n",
        "            h[i] += q / 2\n",
        "            constant += q / 4\n",
        "        else:\n",
        "            J[i][j] += q / 4\n",
        "            h[i] += q / 4\n",
        "            h[j] += q / 4\n",
        "            constant += q / 4\n",
        "\n",
        "    return h, J, constant\n",
        "\n",
        "h, J, const = qubo_to_ising(Q, n_assets)\n",
        "\n",
        "obs = []\n",
        "coeffs = []\n",
        "\n",
        "# Linear Z terms\n",
        "for i in range(n_assets):\n",
        "    obs.append(qml.PauliZ(i))\n",
        "    coeffs.append(h[i])\n",
        "\n",
        "# Quadratic ZZ terms\n",
        "for i in range(n_assets):\n",
        "    for j in range(i + 1, n_assets):\n",
        "        if J[i][j] != 0:\n",
        "            obs.append(qml.PauliZ(i) @ qml.PauliZ(j))\n",
        "            coeffs.append(J[i][j])\n",
        "\n",
        "H = qml.Hamiltonian(coeffs, obs)\n",
        "dev = qml.device(\"default.qubit\", wires=n_assets, shots=None)\n",
        "\n",
        "@qml.qnode(dev)\n",
        "def circuit(params):\n",
        "    qml.templates.StronglyEntanglingLayers(params, wires=range(n_assets))\n",
        "    return qml.expval(H)\n",
        "\n",
        "def energy(params):\n",
        "    return circuit(params) + const  # add constant shift\n",
        "\n",
        "# Optimization\n",
        "layers = 2\n",
        "params = 0.01 * np.random.randn(layers, n_assets, 3)\n",
        "opt = NesterovMomentumOptimizer(stepsize=0.2)\n",
        "steps = 100\n",
        "\n",
        "history = []\n",
        "\n",
        "for i in range(steps):\n",
        "    params = opt.step(energy, params)\n",
        "    e = energy(params)\n",
        "    history.append(e)\n",
        "    if i % 10 == 0:\n",
        "        print(f\"Step {i}: Energy = {e:.4f}\")\n",
        "\n",
        "final_energy = energy(params)\n",
        "final_params = params\n",
        "\n",
        "final_energy"
      ],
      "metadata": {
        "colab": {
          "base_uri": "https://localhost:8080/"
        },
        "id": "zpbw-yngQ_Go",
        "outputId": "6dce9872-0c84-4553-b1b2-a906ea9ff341"
      },
      "execution_count": 3,
      "outputs": [
        {
          "output_type": "stream",
          "name": "stdout",
          "text": [
            "Step 0: Energy = 0.7739\n",
            "Step 10: Energy = -3.8760\n",
            "Step 20: Energy = -4.0427\n",
            "Step 30: Energy = -4.0685\n",
            "Step 40: Energy = -4.1400\n",
            "Step 50: Energy = -4.1749\n",
            "Step 60: Energy = -4.1719\n",
            "Step 70: Energy = -4.1742\n",
            "Step 80: Energy = -4.1750\n",
            "Step 90: Energy = -4.1749\n"
          ]
        },
        {
          "output_type": "execute_result",
          "data": {
            "text/plain": [
              "tensor(-4.1749773, requires_grad=True)"
            ]
          },
          "metadata": {},
          "execution_count": 3
        }
      ]
    },
    {
      "cell_type": "code",
      "source": [
        "import matplotlib.pyplot as plt\n",
        "\n",
        "plt.figure(figsize=(10, 5))\n",
        "plt.plot(history, label=\"Energy\")\n",
        "plt.xlabel(\"Optimization Step\")\n",
        "plt.ylabel(\"Energy (Total Risk - Return + Penalty)\")\n",
        "plt.title(\"Energy Convergence Over Time\")\n",
        "plt.grid(True)\n",
        "plt.legend()\n",
        "plt.tight_layout()\n",
        "plt.show()"
      ],
      "metadata": {
        "colab": {
          "base_uri": "https://localhost:8080/",
          "height": 507
        },
        "id": "M6oFcOFlS2Sa",
        "outputId": "96e96fe4-5d9e-4744-ce68-b3844b381383"
      },
      "execution_count": 4,
      "outputs": [
        {
          "output_type": "display_data",
          "data": {
            "text/plain": [
              "<Figure size 1000x500 with 1 Axes>"
            ],
            "image/png": "[encoded data removed]"
          },
          "metadata": {}
        }
      ]
    },
    {
      "cell_type": "code",
      "source": [
        "# Change device to finite shots for measurement\n",
        "dev_meas = qml.device(\"default.qubit\", wires=n_assets, shots=1000)\n",
        "\n",
        "@qml.qnode(dev_meas)\n",
        "def measure_final_state(params):\n",
        "    qml.templates.StronglyEntanglingLayers(params, wires=range(n_assets))\n",
        "    return [qml.sample(qml.PauliZ(i)) for i in range(n_assets)]\n",
        "\n",
        "samples = np.array(measure_final_state(final_params)).T  # shape: (shots, n_assets)\n",
        "\n",
        "# Convert Z-basis measurement (-1, +1) → binary decisions (0, 1)\n",
        "binary_samples = ((1 - samples) // 2).astype(int)\n",
        "\n",
        "# Count how many times each property was selected\n",
        "selection_prob = np.mean(binary_samples, axis=0)\n",
        "selected = np.where(selection_prob >= 0.5)[0]\n",
        "\n",
        "print(\"Final Selected Properties:\", selected)\n",
        "print(\"Selection Probabilities:\", selection_prob)"
      ],
      "metadata": {
        "colab": {
          "base_uri": "https://localhost:8080/"
        },
        "id": "-5Wc54ONTGpX",
        "outputId": "54d4f8fd-534d-4669-e482-9818c619c3eb"
      },
      "execution_count": 5,
      "outputs": [
        {
          "output_type": "stream",
          "name": "stdout",
          "text": [
            "Final Selected Properties: [0 2]\n",
            "Selection Probabilities: [0.999 0.001 1.    0.   ]\n"
          ]
        }
      ]
    },
    {
      "cell_type": "code",
      "source": [
        "print(\"Final Optimized Parameters (StronglyEntanglingLayers):\")\n",
        "print(final_params)"
      ],
      "metadata": {
        "colab": {
          "base_uri": "https://localhost:8080/"
        },
        "id": "bKCeSsA9TJDR",
        "outputId": "463cf108-bb00-480c-cdb3-d799173ea363"
      },
      "execution_count": 6,
      "outputs": [
        {
          "output_type": "stream",
          "name": "stdout",
          "text": [
            "Final Optimized Parameters (StronglyEntanglingLayers):\n",
            "[[[ 2.42299200e-03 -4.00292074e-05  1.44419242e-02]\n",
            "  [-8.03643115e-03  6.25858728e+00  1.63811650e-02]\n",
            "  [-4.59403912e-03 -4.22730406e-13 -2.67011084e-03]\n",
            "  [ 9.85343080e-03 -7.64484272e-12  3.84941202e-03]]\n",
            "\n",
            " [[-1.44677430e-02 -2.95191630e-04 -1.44624940e-02]\n",
            "  [-1.51004320e-02  4.13648385e-12 -1.70617422e-02]\n",
            "  [-3.06440884e-03 -3.14159265e+00 -1.23315930e-02]\n",
            "  [ 8.53327716e-03  1.37048138e-15  8.23824561e-03]]]\n"
          ]
        }
      ]
    },
    {
      "cell_type": "code",
      "source": [
        "def binary_to_z(x):\n",
        "    return 1 - 2 * np.array(x)  # x in {0,1} → z in {-1,+1}\n",
        "\n",
        "def portfolio_energy(x_binary):\n",
        "    z = binary_to_z(x_binary)\n",
        "    total = sum(h[i] * z[i] for i in range(n_assets))\n",
        "    total += sum(J[i][j] * z[i] * z[j] for i in range(n_assets) for j in range(i+1, n_assets))\n",
        "    return total + const\n",
        "\n",
        "# Random valid portfolio (sum = B)\n",
        "np.random.seed(42)\n",
        "random_x = np.zeros(n_assets, dtype=int)\n",
        "random_x[np.random.choice(n_assets, B, replace=False)] = 1\n",
        "\n",
        "baseline_energy = portfolio_energy(random_x)\n",
        "print(\"Random Baseline Portfolio Energy:\", baseline_energy)\n",
        "\n",
        "improvement = 100 * (baseline_energy - final_energy) / abs(baseline_energy)\n",
        "print(f\"Optimization Improvement over Random: {improvement:.2f}%\")"
      ],
      "metadata": {
        "colab": {
          "base_uri": "https://localhost:8080/"
        },
        "id": "vz14hxAiTMTz",
        "outputId": "83b5dd1b-c46f-43e5-9c0b-e342390933a5"
      },
      "execution_count": 7,
      "outputs": [
        {
          "output_type": "stream",
          "name": "stdout",
          "text": [
            "Random Baseline Portfolio Energy: -3.6249999999999996\n",
            "Optimization Improvement over Random: 15.17%\n"
          ]
        }
      ]
    },
    {
      "cell_type": "code",
      "source": [
        "import cvxpy as cp\n",
        "import numpy as np\n",
        "\n",
        "# x_i ∈ {0, 1}\n",
        "x = cp.Variable(n_assets, boolean=True)\n",
        "\n",
        "# QUBO components\n",
        "risk_term = cp.quad_form(x, q * sigma)\n",
        "return_term = mu @ x\n",
        "budget_penalty = lam * cp.square(cp.sum(x) - B)\n",
        "\n",
        "# Objective function\n",
        "objective = cp.Minimize(risk_term - return_term + budget_penalty)\n",
        "problem = cp.Problem(objective)\n",
        "problem.solve(solver=cp.ECOS_BB)\n",
        "\n",
        "# Extract classical solution\n",
        "x_classical = np.round(x.value).astype(int)\n",
        "\n",
        "# Convert to z-basis for energy comparison\n",
        "def binary_to_z(x_bin):\n",
        "    return 1 - 2 * np.array(x_bin)\n",
        "\n",
        "def portfolio_energy(x_bin):\n",
        "    z = binary_to_z(x_bin)\n",
        "    total = sum(h[i] * z[i] for i in range(n_assets))\n",
        "    total += sum(J[i][j] * z[i] * z[j] for i in range(n_assets) for j in range(i + 1, n_assets))\n",
        "    return total + const\n",
        "\n",
        "classical_energy = portfolio_energy(x_classical)\n",
        "\n",
        "# Compare with random and quantum\n",
        "random_improvement = 100 * (baseline_energy - classical_energy) / abs(baseline_energy)\n",
        "quantum_improvement = 100 * (classical_energy - final_energy) / abs(classical_energy)\n",
        "\n",
        "print(\"Classical Portfolio:\", x_classical)\n",
        "print(\"Classical Energy:\", classical_energy)\n",
        "print(f\"Improvement over Random: {random_improvement:.2f}%\")\n",
        "print(f\"Improvement of Quantum over Classical: {quantum_improvement:.2f}%\")"
      ],
      "metadata": {
        "colab": {
          "base_uri": "https://localhost:8080/"
        },
        "id": "EXneEhCOUBef",
        "outputId": "eb7ae01a-91cc-48d3-fead-34bd748bcba8"
      },
      "execution_count": 8,
      "outputs": [
        {
          "output_type": "stream",
          "name": "stdout",
          "text": [
            "Classical Portfolio: [0 1 0 1]\n",
            "Classical Energy: -3.6249999999999996\n",
            "Improvement over Random: 0.00%\n",
            "Improvement of Quantum over Classical: 15.17%\n"
          ]
        }
      ]
    }
  ]
}